{
 "cells": [
  {
   "cell_type": "code",
   "execution_count": 4,
   "id": "6672d01e-0826-4813-a66d-72a26d4bca39",
   "metadata": {},
   "outputs": [
    {
     "name": "stdout",
     "output_type": "stream",
     "text": [
      "O arquivo não existe\n"
     ]
    }
   ],
   "source": [
    "import os\n",
    "if os.path.exists('Aula 9.txt'):\n",
    "    os.remove('Aula 9.txt')\n",
    "else:\n",
    "    print('O arquivo não existe')"
   ]
  },
  {
   "cell_type": "code",
   "execution_count": 7,
   "id": "c864c43c-b441-433f-b1c5-50fffbb6881a",
   "metadata": {},
   "outputs": [
    {
     "name": "stdout",
     "output_type": "stream",
     "text": [
      "A pasta não existe\n"
     ]
    }
   ],
   "source": [
    "import os\n",
    "if os.path.exists('Pasta'):\n",
    "    os.rmdir('Pasta')\n",
    "else:\n",
    "    print('A pasta não existe')"
   ]
  },
  {
   "cell_type": "code",
   "execution_count": 8,
   "id": "14184322-2abc-4341-8b8e-75373b1fa080",
   "metadata": {},
   "outputs": [
    {
     "name": "stdout",
     "output_type": "stream",
     "text": [
      "['__doc__', '__loader__', '__name__', '__package__', '__spec__', 'acos', 'acosh', 'asin', 'asinh', 'atan', 'atan2', 'atanh', 'cbrt', 'ceil', 'comb', 'copysign', 'cos', 'cosh', 'degrees', 'dist', 'e', 'erf', 'erfc', 'exp', 'exp2', 'expm1', 'fabs', 'factorial', 'floor', 'fmod', 'frexp', 'fsum', 'gamma', 'gcd', 'hypot', 'inf', 'isclose', 'isfinite', 'isinf', 'isnan', 'isqrt', 'lcm', 'ldexp', 'lgamma', 'log', 'log10', 'log1p', 'log2', 'modf', 'nan', 'nextafter', 'perm', 'pi', 'pow', 'prod', 'radians', 'remainder', 'sin', 'sinh', 'sqrt', 'sumprod', 'tan', 'tanh', 'tau', 'trunc', 'ulp']\n"
     ]
    }
   ],
   "source": [
    "import math\n",
    "print(dir(math))"
   ]
  },
  {
   "cell_type": "code",
   "execution_count": 14,
   "id": "76a9be34-c699-4273-af34-ba70981f95bf",
   "metadata": {},
   "outputs": [
    {
     "name": "stdout",
     "output_type": "stream",
     "text": [
      "3628800\n"
     ]
    }
   ],
   "source": [
    "import math \n",
    "print(math.factorial(10))"
   ]
  },
  {
   "cell_type": "code",
   "execution_count": 15,
   "id": "e74c13a4-6c83-4e87-a62d-5a5a19c82f31",
   "metadata": {},
   "outputs": [
    {
     "name": "stdout",
     "output_type": "stream",
     "text": [
      "3\n"
     ]
    }
   ],
   "source": [
    "import math \n",
    "print(math.floor(3.14))"
   ]
  },
  {
   "cell_type": "code",
   "execution_count": 16,
   "id": "de8d71c4-1345-4c5c-8efe-048921e925a5",
   "metadata": {},
   "outputs": [
    {
     "name": "stdout",
     "output_type": "stream",
     "text": [
      "Help on built-in function floor in module math:\n",
      "\n",
      "floor(x, /)\n",
      "    Return the floor of x as an Integral.\n",
      "\n",
      "    This is the largest integer <= x.\n",
      "\n"
     ]
    }
   ],
   "source": [
    "help(math.floor)"
   ]
  },
  {
   "cell_type": "code",
   "execution_count": 18,
   "id": "65fffb46-4069-4f9b-8340-191e4d6862d1",
   "metadata": {},
   "outputs": [
    {
     "name": "stdout",
     "output_type": "stream",
     "text": [
      "5.0\n"
     ]
    }
   ],
   "source": [
    "import math\n",
    "print(math.hypot(3.0, 4.0))"
   ]
  },
  {
   "cell_type": "code",
   "execution_count": 25,
   "id": "a07b7eca-b6a1-4a3c-9a2c-ac20f7750312",
   "metadata": {},
   "outputs": [
    {
     "name": "stdout",
     "output_type": "stream",
     "text": [
      "40\n",
      "20\n",
      "300\n",
      "3.0\n"
     ]
    }
   ],
   "source": [
    "import Calculadora\n",
    "print(Calculadora.soma(30, 10))\n",
    "print(Calculadora.subtracao(30, 10))\n",
    "print(Calculadora.multiplicacao(30, 10))\n",
    "print(Calculadora.divisao(30, 10))"
   ]
  },
  {
   "cell_type": "code",
   "execution_count": 30,
   "id": "4bece676-886b-4452-8b32-6e442b00c3f6",
   "metadata": {},
   "outputs": [
    {
     "data": {
      "text/plain": [
       "314.0"
      ]
     },
     "execution_count": 30,
     "metadata": {},
     "output_type": "execute_result"
    }
   ],
   "source": [
    "import matematica.geometria\n",
    "matematica.geometria.areacirculo(10)"
   ]
  },
  {
   "cell_type": "code",
   "execution_count": 31,
   "id": "7dd5bccf-86f2-407b-b5de-b02142fb30b7",
   "metadata": {},
   "outputs": [
    {
     "data": {
      "text/plain": [
       "314.0"
      ]
     },
     "execution_count": 31,
     "metadata": {},
     "output_type": "execute_result"
    }
   ],
   "source": [
    "from matematica import geometria as g\n",
    "g.areacirculo(10)"
   ]
  },
  {
   "cell_type": "code",
   "execution_count": 41,
   "id": "088cd705-3c61-43d4-a377-122962862808",
   "metadata": {},
   "outputs": [
    {
     "name": "stdin",
     "output_type": "stream",
     "text": [
      " 2\n",
      " 4\n",
      " 6\n",
      " 8\n",
      " 10\n"
     ]
    },
    {
     "name": "stdout",
     "output_type": "stream",
     "text": [
      "5valores pares\n"
     ]
    }
   ],
   "source": [
    "tot=0\n",
    "for cont in range(0, 5):\n",
    "    num=int(input())\n",
    "    if num %2==0:\n",
    "        tot=tot+1\n",
    "print('{}valores pares'.format(tot))  "
   ]
  }
 ],
 "metadata": {
  "kernelspec": {
   "display_name": "Python 3 (ipykernel)",
   "language": "python",
   "name": "python3"
  },
  "language_info": {
   "codemirror_mode": {
    "name": "ipython",
    "version": 3
   },
   "file_extension": ".py",
   "mimetype": "text/x-python",
   "name": "python",
   "nbconvert_exporter": "python",
   "pygments_lexer": "ipython3",
   "version": "3.12.4"
  }
 },
 "nbformat": 4,
 "nbformat_minor": 5
}
