{
 "cells": [
  {
   "cell_type": "code",
   "execution_count": 6,
   "id": "5e919b41-7102-4c7c-9aa2-e6dc3bb66ec4",
   "metadata": {},
   "outputs": [
    {
     "name": "stdout",
     "output_type": "stream",
     "text": [
      "Bem-vindo, Heitor à Ctrl+Play\n"
     ]
    }
   ],
   "source": [
    "# Definindo uma função\n",
    "def boas_vindas(nome):\n",
    "    print('Bem-vindo, {} à Ctrl+Play'.format(nome))\n",
    "    \n",
    "# Programa principal\n",
    "boas_vindas('Heitor')"
   ]
  },
  {
   "cell_type": "code",
   "execution_count": 11,
   "id": "4901592e-4a0d-43ea-9024-6acbc44ec2a4",
   "metadata": {},
   "outputs": [
    {
     "name": "stdout",
     "output_type": "stream",
     "text": [
      "Um dos meus filmes favoritos é Star Wars\n",
      "Um dos meus filmes favoritos é Vingadores\n",
      "Um dos meus filmes favoritos é Godzilla\n"
     ]
    }
   ],
   "source": [
    "def filme_favorito(titulo):\n",
    "    print('Um dos meus filmes favoritos é {}'.format(titulo))\n",
    "\n",
    "# Programa principal\n",
    "filme_favorito('Star Wars')\n",
    "filme_favorito('Vingadores')\n",
    "filme_favorito('Godzilla')"
   ]
  },
  {
   "cell_type": "code",
   "execution_count": 13,
   "id": "f5ae3571-40d2-46cd-9af6-61bea3040f83",
   "metadata": {},
   "outputs": [
    {
     "name": "stdout",
     "output_type": "stream",
     "text": [
      "60.0\n",
      "60.0\n"
     ]
    }
   ],
   "source": [
    "def velocidade(distancia, tempo):\n",
    "    print(distancia/tempo)\n",
    "\n",
    "# Programa principal\n",
    "velocidade(300, 5)\n",
    "\n",
    "velocidade(tempo=5, distancia=300)"
   ]
  },
  {
   "cell_type": "code",
   "execution_count": 14,
   "id": "fa673ada-1882-4876-9eeb-9f5af0d57d74",
   "metadata": {},
   "outputs": [
    {
     "name": "stdout",
     "output_type": "stream",
     "text": [
      "200.0\n",
      "133.33333333333334\n",
      "80.0\n"
     ]
    }
   ],
   "source": [
    "def velocidade(tempo, distancia=800):\n",
    "    print(distancia/tempo)\n",
    "\n",
    "# Programa principal\n",
    "velocidade(4)\n",
    "velocidade(6)\n",
    "velocidade(10)"
   ]
  },
  {
   "cell_type": "code",
   "execution_count": 16,
   "id": "f4e7f5e1-9401-4fd5-a052-1271a9eb85c2",
   "metadata": {},
   "outputs": [
    {
     "name": "stdin",
     "output_type": "stream",
     "text": [
      "Digite um numero 250\n",
      "Digite outro numero 35\n"
     ]
    },
    {
     "name": "stdout",
     "output_type": "stream",
     "text": [
      "O menor valor entre 250 e 35 é 35\n"
     ]
    }
   ],
   "source": [
    "def menor(x,y):\n",
    "    if x <= y:\n",
    "        return x\n",
    "    else:\n",
    "        return y\n",
    "\n",
    "# Programa principal\n",
    "a = int(input('Digite um numero'))\n",
    "b = int(input('Digite outro numero'))\n",
    "print('O menor valor entre {} e {} é {}'.format(a, b, menor(a,b)))"
   ]
  },
  {
   "cell_type": "code",
   "execution_count": 20,
   "id": "0f8565ac-4d9f-4b5d-9ef7-41b0dee88dc7",
   "metadata": {},
   "outputs": [
    {
     "name": "stdout",
     "output_type": "stream",
     "text": [
      "\n",
      " Preparando um Açaí medio com os seguintes ingredientes: \n",
      "- Banana\n",
      "- Granola\n",
      "\n",
      " Preparando um Açaí grande com os seguintes ingredientes: \n",
      "- Morango\n",
      "- Kiwi\n",
      "- Leite em pó\n",
      "\n",
      " Preparando um Açaí pequeno com os seguintes ingredientes: \n",
      "- Banana\n",
      "\n",
      " Preparando um Açaí pequeno com os seguintes ingredientes: \n",
      "- Morango\n",
      "- Leite em pó\n"
     ]
    }
   ],
   "source": [
    "def prepara_acai(*ingredientes, tamanho='medio'):\n",
    "    print('\\n Preparando um Açaí {} com os seguintes ingredientes: '.format(tamanho))\n",
    "    for ingrediente in ingredientes:\n",
    "        print('-', ingrediente)\n",
    "\n",
    "# Programa principal\n",
    "prepara_acai('Banana','Granola')\n",
    "prepara_acai('Morango','Kiwi','Leite em pó', tamanho= 'grande')\n",
    "prepara_acai('Banana',tamanho= 'pequeno')\n",
    "prepara_acai('Morango','Leite em pó', tamanho= 'pequeno')"
   ]
  },
  {
   "cell_type": "code",
   "execution_count": 23,
   "id": "0172a882-26f8-4543-a569-36f81180a839",
   "metadata": {},
   "outputs": [
    {
     "name": "stdout",
     "output_type": "stream",
     "text": [
      "Maior:  8\n",
      "Menor:  1\n"
     ]
    }
   ],
   "source": [
    "def menor(lista):\n",
    "    menorValor = lista[0]\n",
    "    for x in lista:\n",
    "        if x < menorValor:\n",
    "            menorValor = x\n",
    "    return menorValor\n",
    "\n",
    "def maior(lista):\n",
    "    maiorValor = lista[0]\n",
    "    for y in lista:\n",
    "        if y > maiorValor:\n",
    "            maiorValor = y\n",
    "    return maiorValor\n",
    "\n",
    "def maiorEmenor(lista):\n",
    "    print('Maior: ',maior(lista))\n",
    "    print('Menor: ',menor(lista))\n",
    "\n",
    "#Programa principal\n",
    "maiorEmenor([6,8,2,3,1,7])"
   ]
  }
 ],
 "metadata": {
  "kernelspec": {
   "display_name": "Python 3 (ipykernel)",
   "language": "python",
   "name": "python3"
  },
  "language_info": {
   "codemirror_mode": {
    "name": "ipython",
    "version": 3
   },
   "file_extension": ".py",
   "mimetype": "text/x-python",
   "name": "python",
   "nbconvert_exporter": "python",
   "pygments_lexer": "ipython3",
   "version": "3.12.4"
  }
 },
 "nbformat": 4,
 "nbformat_minor": 5
}
