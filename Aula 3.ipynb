{
 "cells": [
  {
   "cell_type": "code",
   "execution_count": 19,
   "id": "6b2d7398-31a4-42c7-a7a5-34c5429f0816",
   "metadata": {},
   "outputs": [
    {
     "name": "stdout",
     "output_type": "stream",
     "text": [
      "['José', 'Lucas', 'Ana', 'Enzo', 'Valentina']\n",
      "Primeiro convidado:José\n",
      "Terceiro convidado:Ana\n",
      "Substituindo o primeiro convidado: ['Heitor', 'Lucas', 'Ana', 'Enzo', 'Valentina']\n",
      "Adicionando um convidado no final: ['Heitor', 'Lucas', 'Ana', 'Enzo', 'Valentina', 'Joaquim']\n",
      "Inserindo um convidado na posição 0: ['João', 'Heitor', 'Lucas', 'Ana', 'Enzo', 'Valentina', 'Joaquim']\n",
      "Removendo convidado da posição 1: ['João', 'Lucas', 'Ana', 'Enzo', 'Valentina', 'Joaquim']\n",
      "Removeu o quarto: Enzo\n",
      " confirmados: ['João', 'Lucas', 'Ana', 'Valentina', 'Joaquim']\n",
      "Viajando: Valentina. Não vai a festa. confirmados: ['João', 'Lucas', 'Ana', 'Joaquim']\n",
      "Invertendo a ordem da lista: ['Joaquim', 'Ana', 'Lucas', 'João']\n",
      "Colocando em ordem crescente: ['Ana', 'Joaquim', 'João', 'Lucas']\n",
      "4\n"
     ]
    }
   ],
   "source": [
    "convidados = ['José','Lucas','Ana','Enzo','Valentina']\n",
    "print(convidados)\n",
    "print('Primeiro convidado:{}'.format(convidados[0]))\n",
    "print('Terceiro convidado:{}'.format(convidados[-3]))\n",
    "convidados[0] = 'Heitor'\n",
    "print('Substituindo o primeiro convidado: {}'.format(convidados))\n",
    "convidados.append('Joaquim')\n",
    "print('Adicionando um convidado no final: {}'.format(convidados))\n",
    "convidados.insert(0,'João')\n",
    "print('Inserindo um convidado na posição 0: {}'.format(convidados))\n",
    "del convidados [1]\n",
    "print('Removendo convidado da posição 1: {}'.format(convidados))\n",
    "quarto = convidados.pop(3)\n",
    "print('Removeu o quarto: {}\\n confirmados: {}'.format(quarto, convidados))\n",
    "Viajando = 'Valentina'\n",
    "convidados.remove(Viajando)\n",
    "print('Viajando: {}. Não vai a festa. confirmados: {}'.format(Viajando, convidados))\n",
    "convidados.reverse ()\n",
    "print('Invertendo a ordem da lista: {}'.format(convidados))\n",
    "convidados.sort()\n",
    "print('Colocando em ordem crescente: {}'.format(convidados))\n",
    "print(len(convidados))"
   ]
  },
  {
   "cell_type": "code",
   "execution_count": 28,
   "id": "f362d5d3-a9ea-4eb9-96c6-1a9c3d2adf36",
   "metadata": {},
   "outputs": [
    {
     "name": "stdout",
     "output_type": "stream",
     "text": [
      "Colocando em ordem decrescente: [98, 93, 74, 24, 13, 8, 7, 5, 3, 0]\n",
      "1\n",
      "10\n",
      "[6, 7, 8, 9, 10]\n"
     ]
    }
   ],
   "source": [
    "números = [3,8,0,5,7,24,74,93,13,98]\n",
    "números.sort(reverse = True)\n",
    "print('Colocando em ordem decrescente: {}'.format(números))\n",
    "num = [1,2,3,4,5,6,7,8,9,10]\n",
    "print(min(num))\n",
    "print(max(num))\n",
    "print(num[5:])"
   ]
  },
  {
   "cell_type": "code",
   "execution_count": 38,
   "id": "2be23684-2c28-46a1-be52-e2335f336bd1",
   "metadata": {},
   "outputs": [
    {
     "name": "stdout",
     "output_type": "stream",
     "text": [
      "Pano Amarelo\n"
     ]
    }
   ],
   "source": [
    "coresXobjetos = [['Azul','Vermelho','Amarelo','Verde'],['Garfo','Faca','Prato','Pano']]\n",
    "print('{} {}'.format(coresXobjetos[1][3],coresXobjetos[0][2]))"
   ]
  },
  {
   "cell_type": "code",
   "execution_count": 51,
   "id": "f06e097b-1b8e-4de1-9d5f-3a8ad5db29f7",
   "metadata": {},
   "outputs": [
    {
     "name": "stdin",
     "output_type": "stream",
     "text": [
      " 5\n"
     ]
    },
    {
     "name": "stdout",
     "output_type": "stream",
     "text": [
      "N[0] = 5\n",
      "N[1] = 10\n",
      "N[2] = 20\n",
      "N[3] = 40\n",
      "N[4] = 80\n",
      "N[5] = 160\n",
      "N[6] = 320\n",
      "N[7] = 640\n",
      "N[8] = 1280\n",
      "N[9] = 2560\n"
     ]
    }
   ],
   "source": [
    "#desafio 1 - preenchimento de vetor I\n",
    "vetor = int(input())\n",
    "olá = [vetor, vetor*2, vetor*2**2, vetor*2**3, vetor*2**4, vetor*2**5, vetor*2**6, vetor*2**7, vetor*2**8, vetor*2**9]\n",
    "print('N[0] = {}'.format(olá[0]))\n",
    "print('N[1] = {}'.format(olá[1]))\n",
    "print('N[2] = {}'.format(olá[2]))\n",
    "print('N[3] = {}'.format(olá[3]))\n",
    "print('N[4] = {}'.format(olá[4]))\n",
    "print('N[5] = {}'.format(olá[5]))\n",
    "print('N[6] = {}'.format(olá[6]))\n",
    "print('N[7] = {}'.format(olá[7]))\n",
    "print('N[8] = {}'.format(olá[8]))\n",
    "print('N[9] = {}'.format(olá[9]))"
   ]
  }
 ],
 "metadata": {
  "kernelspec": {
   "display_name": "Python 3 (ipykernel)",
   "language": "python",
   "name": "python3"
  },
  "language_info": {
   "codemirror_mode": {
    "name": "ipython",
    "version": 3
   },
   "file_extension": ".py",
   "mimetype": "text/x-python",
   "name": "python",
   "nbconvert_exporter": "python",
   "pygments_lexer": "ipython3",
   "version": "3.12.4"
  }
 },
 "nbformat": 4,
 "nbformat_minor": 5
}
