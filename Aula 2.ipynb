{
 "cells": [
  {
   "cell_type": "code",
   "execution_count": 5,
   "id": "9331f85e-91ff-48ae-9e07-68ac75851bf7",
   "metadata": {},
   "outputs": [
    {
     "name": "stdout",
     "output_type": "stream",
     "text": [
      "olá!\n",
      "heitor de lima bertolani\n"
     ]
    }
   ],
   "source": [
    "string1 = 'olá!'\n",
    "print(string1)\n",
    "string2 = \"heitor de lima bertolani\"\n",
    "print(string2)"
   ]
  },
  {
   "cell_type": "code",
   "execution_count": 9,
   "id": "e7ea4c74-f774-4e6f-8416-25bb25bb7346",
   "metadata": {},
   "outputs": [
    {
     "name": "stdout",
     "output_type": "stream",
     "text": [
      "Costas \n",
      " e \n",
      "Borboleta\n"
     ]
    }
   ],
   "source": [
    "print('Costas \\n e \\nBorboleta')"
   ]
  },
  {
   "cell_type": "code",
   "execution_count": 10,
   "id": "38178e31-d3fc-4a37-9b63-6b7489dcd6c1",
   "metadata": {},
   "outputs": [
    {
     "name": "stdout",
     "output_type": "stream",
     "text": [
      "Costas \t Borboleta\n"
     ]
    }
   ],
   "source": [
    "print('Costas \\t Borboleta')"
   ]
  },
  {
   "cell_type": "code",
   "execution_count": 1,
   "id": "adc65881-25af-49c7-8b78-bc927db9c517",
   "metadata": {},
   "outputs": [
    {
     "name": "stdout",
     "output_type": "stream",
     "text": [
      "Lima\n",
      "24\n",
      "1\n",
      "3\n"
     ]
    }
   ],
   "source": [
    "nome = 'Heitor de Lima Bertolani'\n",
    "print(nome[10:14])\n",
    "print(len(nome))\n",
    "print(nome.find('e'))\n",
    "print(nome.count('e'))"
   ]
  },
  {
   "cell_type": "code",
   "execution_count": 16,
   "id": "0445c2c5-a04e-4ff3-bedf-38f3c39d7805",
   "metadata": {},
   "outputs": [
    {
     "name": "stdout",
     "output_type": "stream",
     "text": [
      "HeitorBertolani\n",
      "HeitorHeitorHeitorHeitorHeitorHeitorHeitor\n"
     ]
    }
   ],
   "source": [
    "nome = 'Heitor'\n",
    "sobrenome = 'Bertolani'\n",
    "print(nome + sobrenome)\n",
    "print(nome * 7)"
   ]
  },
  {
   "cell_type": "code",
   "execution_count": 19,
   "id": "9800ce2d-ad65-4a42-babc-ba36566e996d",
   "metadata": {},
   "outputs": [
    {
     "name": "stdout",
     "output_type": "stream",
     "text": [
      "      HEITOR DE LIMA BERTOLANI\n",
      "      heitor de lima bertolani\n",
      "['Heitor', 'de', 'Lima', 'Bertolani']\n",
      "Heitor de Lima Bertolani\n"
     ]
    }
   ],
   "source": [
    "nome = '      Heitor de Lima Bertolani'\n",
    "print(nome.upper())\n",
    "print(nome.lower())\n",
    "print(nome.split())\n",
    "print(nome.strip())"
   ]
  },
  {
   "cell_type": "code",
   "execution_count": 21,
   "id": "7c532231-57b7-4b25-a80f-8fc58d74023d",
   "metadata": {},
   "outputs": [
    {
     "name": "stdin",
     "output_type": "stream",
     "text": [
      "Qual o seu nome Heitor\n"
     ]
    },
    {
     "name": "stdout",
     "output_type": "stream",
     "text": [
      "Prazer em te conhecher, Heitor!\n",
      "Prazer em te conhecher, Heitor              !\n",
      "Prazer em te conhecher, Heitor              !\n",
      "Prazer em te conhecher,               Heitor!\n",
      "Prazer em te conhecher,        Heitor       !\n",
      "Prazer em te conhecher, =======Heitor=======!\n"
     ]
    }
   ],
   "source": [
    "nome = input('Qual o seu nome')\n",
    "print('Prazer em te conhecher, {}!'.format(nome))\n",
    "print('Prazer em te conhecher, {:20}!'.format(nome))\n",
    "print('Prazer em te conhecher, {:<20}!'.format(nome))\n",
    "print('Prazer em te conhecher, {:>20}!'.format(nome))\n",
    "print('Prazer em te conhecher, {:^20}!'.format(nome))\n",
    "print('Prazer em te conhecher, {:=^20}!'.format(nome))"
   ]
  }
 ],
 "metadata": {
  "kernelspec": {
   "display_name": "Python 3 (ipykernel)",
   "language": "python",
   "name": "python3"
  },
  "language_info": {
   "codemirror_mode": {
    "name": "ipython",
    "version": 3
   },
   "file_extension": ".py",
   "mimetype": "text/x-python",
   "name": "python",
   "nbconvert_exporter": "python",
   "pygments_lexer": "ipython3",
   "version": "3.12.4"
  }
 },
 "nbformat": 4,
 "nbformat_minor": 5
}
