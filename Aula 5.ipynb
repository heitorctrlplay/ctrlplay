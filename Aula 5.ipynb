{
 "cells": [
  {
   "cell_type": "code",
   "execution_count": 2,
   "id": "960f98ce-274e-4a8b-ab9f-9e3b88df0d13",
   "metadata": {},
   "outputs": [
    {
     "name": "stdout",
     "output_type": "stream",
     "text": [
      "1\n",
      "2\n",
      "3\n",
      "4\n",
      "5\n",
      "6\n",
      "7\n",
      "8\n",
      "9\n",
      "10\n",
      "1\n",
      "2\n",
      "3\n",
      "4\n",
      "5\n",
      "6\n",
      "7\n",
      "8\n",
      "9\n",
      "10\n"
     ]
    }
   ],
   "source": [
    "numeros = [1, 2, 3, 4, 5, 6, 7, 8, 9, 10]\n",
    "for num in numeros:\n",
    "    print(num)\n",
    "for num in range(1,11):\n",
    "    print(num)"
   ]
  },
  {
   "cell_type": "code",
   "execution_count": 6,
   "id": "e93da375-ca5c-44a8-adc9-ac5b4374146e",
   "metadata": {},
   "outputs": [
    {
     "name": "stdout",
     "output_type": "stream",
     "text": [
      "                   1\n",
      "2                   \n",
      "                   3\n",
      "4                   \n",
      "                   5\n",
      "6                   \n",
      "                   7\n",
      "8                   \n",
      "                   9\n",
      "10                  \n"
     ]
    }
   ],
   "source": [
    "for num in range(1,11):\n",
    "    if num % 2 == 0:\n",
    "        print('{:<20}'.format(num))\n",
    "    else:\n",
    "        print('{:>20}'.format(num))"
   ]
  },
  {
   "cell_type": "code",
   "execution_count": 7,
   "id": "8187426e-f350-4604-be96-b77792f6641e",
   "metadata": {},
   "outputs": [
    {
     "name": "stdout",
     "output_type": "stream",
     "text": [
      "C\n",
      "t\n",
      "r\n",
      "l\n",
      "+\n",
      "P\n",
      "l\n",
      "a\n",
      "y\n"
     ]
    }
   ],
   "source": [
    "for letra in 'Ctrl+Play':\n",
    "    print(letra)"
   ]
  },
  {
   "cell_type": "code",
   "execution_count": 10,
   "id": "775a6af9-a7e2-4d4b-a60d-1b5a1ad61655",
   "metadata": {},
   "outputs": [
    {
     "name": "stdout",
     "output_type": "stream",
     "text": [
      "1\n",
      "3\n",
      "6\n",
      "10\n",
      "15\n",
      "21\n",
      "28\n",
      "36\n",
      "45\n",
      "55\n",
      "66\n",
      "78\n",
      "91\n",
      "105\n",
      "14\n"
     ]
    }
   ],
   "source": [
    "soma = 0\n",
    "numeros = range(1,1000)\n",
    "i = 0\n",
    "while soma < 100:\n",
    "    soma += numeros[i]\n",
    "    i += 1\n",
    "    print(soma)\n",
    "print(i)"
   ]
  },
  {
   "cell_type": "code",
   "execution_count": 14,
   "id": "b498d442-d656-41a2-b809-203c98b7bcfd",
   "metadata": {},
   "outputs": [
    {
     "name": "stdin",
     "output_type": "stream",
     "text": [
      "Digite um numero para ver a sua tabuada 5\n"
     ]
    },
    {
     "name": "stdout",
     "output_type": "stream",
     "text": [
      "5 * 1 = 5\n",
      "5 * 2 = 10\n",
      "5 * 3 = 15\n",
      "5 * 4 = 20\n",
      "5 * 5 = 25\n",
      "5 * 6 = 30\n",
      "5 * 7 = 35\n",
      "5 * 8 = 40\n",
      "5 * 9 = 45\n",
      "5 * 10 = 50\n"
     ]
    }
   ],
   "source": [
    "#desafio 1 - tabuada\n",
    "ei = int(input('Digite um numero para ver a sua tabuada'))\n",
    "for contador in range(1,11):\n",
    "    print('{} * {} = {}'.format(ei, contador, ei*contador))"
   ]
  },
  {
   "cell_type": "code",
   "execution_count": 27,
   "id": "879fc43b-3128-40c7-b580-54579ceb0611",
   "metadata": {},
   "outputs": [
    {
     "name": "stdin",
     "output_type": "stream",
     "text": [
      " 29\n",
      " 37\n",
      " 19\n",
      " 46\n",
      " 736473\n",
      " 983\n",
      " 282\n",
      " 495837\n",
      " 474\n",
      " 373\n"
     ]
    },
    {
     "name": "stdout",
     "output_type": "stream",
     "text": [
      "[29, 37, 19, 46, 736473, 983, 282, 495837, 474, 373]\n",
      "736473\n"
     ]
    }
   ],
   "source": [
    "#desafio 2\n",
    "maior = 0\n",
    "lista = []\n",
    "for olá in range(1,11):\n",
    "    oi = int(input())\n",
    "    lista.append(oi)\n",
    "print(lista)\n",
    "for cont in range(0,10):\n",
    "    if cont == 0:\n",
    "        maior = lista[cont]\n",
    "    if lista[cont] > maior:\n",
    "            maior = lista[cont]\n",
    "print(maior)"
   ]
  },
  {
   "cell_type": "code",
   "execution_count": null,
   "id": "29d4f3f2-c0a0-49b7-b8d6-6fb4a1b45268",
   "metadata": {},
   "outputs": [],
   "source": []
  }
 ],
 "metadata": {
  "kernelspec": {
   "display_name": "Python 3 (ipykernel)",
   "language": "python",
   "name": "python3"
  },
  "language_info": {
   "codemirror_mode": {
    "name": "ipython",
    "version": 3
   },
   "file_extension": ".py",
   "mimetype": "text/x-python",
   "name": "python",
   "nbconvert_exporter": "python",
   "pygments_lexer": "ipython3",
   "version": "3.12.4"
  }
 },
 "nbformat": 4,
 "nbformat_minor": 5
}
