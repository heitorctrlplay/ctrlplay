{
 "cells": [
  {
   "cell_type": "code",
   "execution_count": 3,
   "id": "c024eeda-ba65-4ded-af6c-ffd14768607a",
   "metadata": {},
   "outputs": [
    {
     "name": "stdout",
     "output_type": "stream",
     "text": [
      "True\n",
      "True\n"
     ]
    }
   ],
   "source": [
    "numero1 = 10\n",
    "numero2 = 50\n",
    "texto1 = 'Ctrl'\n",
    "texto2 = 'Play'\n",
    "c1 = numero1 * 5 == numero2\n",
    "print(c1)\n",
    "c8 = texto1 < texto2\n",
    "print(c8)"
   ]
  },
  {
   "cell_type": "code",
   "execution_count": 9,
   "id": "e30ddcaf-a20d-4087-868e-3dae6ac5fd7d",
   "metadata": {},
   "outputs": [
    {
     "name": "stdout",
     "output_type": "stream",
     "text": [
      "True True True\n"
     ]
    }
   ],
   "source": [
    "c1 = 1 < 2 < 3\n",
    "c2 = 1 < 2 and 2 < 3\n",
    "c3 = 1 == 2 or 2 < 3\n",
    "print(c1, c2, c3)"
   ]
  },
  {
   "cell_type": "code",
   "execution_count": 13,
   "id": "10ec13d0-1ab6-42c0-9579-116534da2a33",
   "metadata": {},
   "outputs": [
    {
     "name": "stdout",
     "output_type": "stream",
     "text": [
      "Aprovado\n",
      "Reprovado\n"
     ]
    }
   ],
   "source": [
    "nota = 8\n",
    "if nota >= 6:\n",
    "    print('Aprovado')\n",
    "nota = 3\n",
    "if nota >= 6:\n",
    "    print('Aprovado')\n",
    "else:\n",
    "    print('Reprovado')"
   ]
  },
  {
   "cell_type": "code",
   "execution_count": 15,
   "id": "e4a64aa5-7e56-45b5-9f45-b557add29573",
   "metadata": {},
   "outputs": [
    {
     "name": "stdout",
     "output_type": "stream",
     "text": [
      "Recuperação\n"
     ]
    }
   ],
   "source": [
    "nota = 5.5\n",
    "if nota >= 6:\n",
    "    print('Aprovado')\n",
    "elif 4 < nota and nota < 6:\n",
    "    print('Recuperação')\n",
    "else:\n",
    "    print('Reprovado')"
   ]
  },
  {
   "cell_type": "code",
   "execution_count": 35,
   "id": "e5a5e580-4887-4513-8907-6554511edc74",
   "metadata": {},
   "outputs": [
    {
     "name": "stdin",
     "output_type": "stream",
     "text": [
      " 5 10\n"
     ]
    },
    {
     "name": "stdout",
     "output_type": "stream",
     "text": [
      "Total: R$ 15.00\n"
     ]
    }
   ],
   "source": [
    "#desafio 2 - lanche\n",
    "oi = input().split()\n",
    "lanche = int(oi[0])\n",
    "quantidade = int(oi[1])\n",
    "if lanche == 1:\n",
    "    print('Total: R$ {:.2f}'.format(quantidade*4))\n",
    "elif lanche == 2:\n",
    "    print('Total: R$ {:.2f}'.format(quantidade*4.50))\n",
    "elif lanche == 3:\n",
    "    print('Total: R$ {:.2f}'.format(quantidade*5))\n",
    "elif lanche == 4:\n",
    "    print('Total: R$ {:.2f}'.format(quantidade*2))\n",
    "else:\n",
    "    print('Total: R$ {:.2f}'.format(quantidade*1.50))"
   ]
  },
  {
   "cell_type": "code",
   "execution_count": null,
   "id": "45c1f6d1-5847-4344-a366-874b059e4ba8",
   "metadata": {},
   "outputs": [],
   "source": []
  }
 ],
 "metadata": {
  "kernelspec": {
   "display_name": "Python 3 (ipykernel)",
   "language": "python",
   "name": "python3"
  },
  "language_info": {
   "codemirror_mode": {
    "name": "ipython",
    "version": 3
   },
   "file_extension": ".py",
   "mimetype": "text/x-python",
   "name": "python",
   "nbconvert_exporter": "python",
   "pygments_lexer": "ipython3",
   "version": "3.12.4"
  }
 },
 "nbformat": 4,
 "nbformat_minor": 5
}
