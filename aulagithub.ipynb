{
 "cells": [
  {
   "cell_type": "code",
   "execution_count": 2,
   "id": "86eff205-9a52-493c-8888-0eedee21cf63",
   "metadata": {},
   "outputs": [
    {
     "name": "stdout",
     "output_type": "stream",
     "text": [
      "olá mundo\n"
     ]
    }
   ],
   "source": [
    "print('olá mundo')\n",
    "#linha adicionada no jupyter\n",
    "#linha adicionada no vscode 11:28\n",
    "#linha adicionada na main 08/08/2024 14:11\n",
    "#analisar task 3 08/08/2024 14:27"
   ]
  }
 ],
 "metadata": {
  "kernelspec": {
   "display_name": "Python 3 (ipykernel)",
   "language": "python",
   "name": "python3"
  },
  "language_info": {
   "codemirror_mode": {
    "name": "ipython",
    "version": 3
   },
   "file_extension": ".py",
   "mimetype": "text/x-python",
   "name": "python",
   "nbconvert_exporter": "python",
   "pygments_lexer": "ipython3",
   "version": "3.11.7"
  }
 },
 "nbformat": 4,
 "nbformat_minor": 5
}
