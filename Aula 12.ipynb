{
 "cells": [
  {
   "cell_type": "code",
   "execution_count": 4,
   "id": "133d41ad-bd31-4af3-8c11-412850004ce0",
   "metadata": {},
   "outputs": [],
   "source": [
    "class Casa():\n",
    "    rua = 'Avenida Winston Churcill'\n",
    "    bairro = 'Capão Raso'\n",
    "    CEP = '81130-000'\n",
    "\n",
    "    def enderecoCompleto(self):\n",
    "        return 'Endereço Completo: {}, {} - CEP: {}'.format(self.rua, self.bairro, self.CEP)"
   ]
  }
 ],
 "metadata": {
  "kernelspec": {
   "display_name": "Python 3 (ipykernel)",
   "language": "python",
   "name": "python3"
  },
  "language_info": {
   "codemirror_mode": {
    "name": "ipython",
    "version": 3
   },
   "file_extension": ".py",
   "mimetype": "text/x-python",
   "name": "python",
   "nbconvert_exporter": "python",
   "pygments_lexer": "ipython3",
   "version": "3.11.7"
  }
 },
 "nbformat": 4,
 "nbformat_minor": 5
}
