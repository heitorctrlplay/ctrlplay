{
 "cells": [
  {
   "cell_type": "code",
   "execution_count": 10,
   "id": "60989eb3-c6fa-44ba-8ed2-4647da96e38a",
   "metadata": {},
   "outputs": [
    {
     "name": "stdout",
     "output_type": "stream",
     "text": [
      "cinco\n",
      "(True, 4.5, 'cinco', False)\n",
      "7\n",
      "2\n"
     ]
    }
   ],
   "source": [
    "t = ('um', 2, 'três', True, 4.5, 'cinco', False)\n",
    "print(t[5])\n",
    "print(t[3:7])\n",
    "print(len(t))\n",
    "print(t.index('três'))"
   ]
  },
  {
   "cell_type": "code",
   "execution_count": 11,
   "id": "9b93e433-739d-4239-b5c3-f7208980b11c",
   "metadata": {},
   "outputs": [
    {
     "name": "stdout",
     "output_type": "stream",
     "text": [
      "{3}\n"
     ]
    }
   ],
   "source": [
    "x = set()\n",
    "x.add(3)\n",
    "x.add(3)\n",
    "print(x)"
   ]
  },
  {
   "cell_type": "code",
   "execution_count": 12,
   "id": "13af1bfc-561a-4688-b120-dd07bf839b21",
   "metadata": {},
   "outputs": [
    {
     "name": "stdout",
     "output_type": "stream",
     "text": [
      "True False True False None\n"
     ]
    }
   ],
   "source": [
    "a = True\n",
    "b = False\n",
    "c = 1 < 2\n",
    "d = 7 > 10\n",
    "e = None\n",
    "print(a, b, c, d, e)"
   ]
  },
  {
   "cell_type": "code",
   "execution_count": 18,
   "id": "07d92651-136c-4799-9b4b-fc40e47ab975",
   "metadata": {},
   "outputs": [
    {
     "name": "stdout",
     "output_type": "stream",
     "text": [
      "{'titulo': 'Star Wars', 'ano': 1977, 'diretor': 'George Lucas'}\n",
      "dict_values(['Star Wars', 1977, 'George Lucas'])\n",
      "dict_keys(['titulo', 'ano', 'diretor'])\n",
      "dict_items([('titulo', 'Star Wars'), ('ano', 1977), ('diretor', 'George Lucas')])\n",
      "O titulo é Star Wars\n",
      "O ano é 1977\n",
      "O diretor é George Lucas\n"
     ]
    }
   ],
   "source": [
    "filme = {'titulo' : 'Star Wars', 'ano' : 1977, 'diretor' : 'George Lucas'}\n",
    "print(filme)\n",
    "print(filme.values())\n",
    "print(filme.keys())\n",
    "print(filme.items())\n",
    "for k, v in filme.items():\n",
    "    print('O {} é {}'.format(k, v))"
   ]
  },
  {
   "cell_type": "code",
   "execution_count": 24,
   "id": "b98b46d3-e239-435b-9e9d-5c69dc663e0a",
   "metadata": {},
   "outputs": [
    {
     "name": "stdout",
     "output_type": "stream",
     "text": [
      "cachorro\n",
      "dog cachorro\n",
      "cat gato\n",
      "bird passaro\n"
     ]
    }
   ],
   "source": [
    "dicionarioInglesPortugues = {'dog' : 'cachorro', 'cat' : 'gato', 'bird' : 'passaro'}\n",
    "print(dicionarioInglesPortugues['dog'])\n",
    "for  k, v in dicionarioInglesPortugues.items():\n",
    "    print(k, v)"
   ]
  },
  {
   "cell_type": "code",
   "execution_count": 30,
   "id": "b1240b6a-bc2e-4d82-a2ce-815047d1f137",
   "metadata": {},
   "outputs": [
    {
     "name": "stdout",
     "output_type": "stream",
     "text": [
      "123\n",
      "33\n",
      "90\n"
     ]
    }
   ],
   "source": [
    "dicionario2 = {'key1':123, 'key2':[12, 23, 33], 'Key3':['item 0', 'item 1', 'item 2']}\n",
    "print(dicionario2['key1'])\n",
    "print(dicionario2['key2'][2])\n",
    "sub = dicionario2['key1'] - dicionario2['key2'][2]\n",
    "print(sub)"
   ]
  },
  {
   "cell_type": "code",
   "execution_count": 37,
   "id": "2d9500d5-eaa0-4542-87bb-fc0fdc749a09",
   "metadata": {},
   "outputs": [
    {
     "name": "stdin",
     "output_type": "stream",
     "text": [
      "Digite o DDD para ver o seu destino 67\n"
     ]
    },
    {
     "name": "stdout",
     "output_type": "stream",
     "text": [
      "Campo Grande\n"
     ]
    }
   ],
   "source": [
    "#desafio DDD\n",
    "dic = {61:'Brasilia', 71:'Salvador', 11:'Sao Paulo', 21:'Rio de Janeiro', 32:'Juiz de Fora', 19:'Campinas', 27:'Vitoria', 31:'Belo Horizonte', 67:'Campo Grande'}\n",
    "DDD = int(input('Digite o DDD para ver o seu destino'))\n",
    "if DDD in dic:\n",
    "    print(dic[DDD])\n",
    "else:\n",
    "    print('DDD não cadastrado')"
   ]
  }
 ],
 "metadata": {
  "kernelspec": {
   "display_name": "Python 3 (ipykernel)",
   "language": "python",
   "name": "python3"
  },
  "language_info": {
   "codemirror_mode": {
    "name": "ipython",
    "version": 3
   },
   "file_extension": ".py",
   "mimetype": "text/x-python",
   "name": "python",
   "nbconvert_exporter": "python",
   "pygments_lexer": "ipython3",
   "version": "3.12.4"
  }
 },
 "nbformat": 4,
 "nbformat_minor": 5
}
