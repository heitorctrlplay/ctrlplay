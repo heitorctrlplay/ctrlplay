{
 "cells": [
  {
   "cell_type": "code",
   "execution_count": 1,
   "id": "a9917f3a-cce9-456f-84cc-d461bfed379e",
   "metadata": {},
   "outputs": [
    {
     "data": {
      "text/plain": [
       "5"
      ]
     },
     "execution_count": 1,
     "metadata": {},
     "output_type": "execute_result"
    }
   ],
   "source": [
    "1+4"
   ]
  },
  {
   "cell_type": "code",
   "execution_count": 2,
   "id": "6528a420-c603-43db-bb84-887f3d09ab08",
   "metadata": {},
   "outputs": [
    {
     "data": {
      "text/plain": [
       "2"
      ]
     },
     "execution_count": 2,
     "metadata": {},
     "output_type": "execute_result"
    }
   ],
   "source": [
    "5-3"
   ]
  },
  {
   "cell_type": "code",
   "execution_count": 3,
   "id": "06596d3d-fccb-47ab-9af8-037af0e6c1d0",
   "metadata": {},
   "outputs": [
    {
     "data": {
      "text/plain": [
       "float"
      ]
     },
     "execution_count": 3,
     "metadata": {},
     "output_type": "execute_result"
    }
   ],
   "source": [
    "type (1.4)"
   ]
  },
  {
   "cell_type": "code",
   "execution_count": 4,
   "id": "070db1d9-9aa2-489a-82e8-ae2515706074",
   "metadata": {},
   "outputs": [
    {
     "data": {
      "text/plain": [
       "int"
      ]
     },
     "execution_count": 4,
     "metadata": {},
     "output_type": "execute_result"
    }
   ],
   "source": [
    "type(7)"
   ]
  },
  {
   "cell_type": "code",
   "execution_count": 5,
   "id": "b3c60a51-ca4e-4637-8114-d56c7ad69d88",
   "metadata": {},
   "outputs": [
    {
     "data": {
      "text/plain": [
       "16.666666666666668"
      ]
     },
     "execution_count": 5,
     "metadata": {},
     "output_type": "execute_result"
    }
   ],
   "source": [
    "1000/60"
   ]
  },
  {
   "cell_type": "code",
   "execution_count": 6,
   "id": "0c136cfd-6d50-43f2-8390-7969bf9d8125",
   "metadata": {},
   "outputs": [
    {
     "data": {
      "text/plain": [
       "16"
      ]
     },
     "execution_count": 6,
     "metadata": {},
     "output_type": "execute_result"
    }
   ],
   "source": [
    "1000//60"
   ]
  },
  {
   "cell_type": "code",
   "execution_count": 7,
   "id": "258d1a90-511d-4d05-bbbb-d8af304366b6",
   "metadata": {},
   "outputs": [
    {
     "data": {
      "text/plain": [
       "1"
      ]
     },
     "execution_count": 7,
     "metadata": {},
     "output_type": "execute_result"
    }
   ],
   "source": [
    "11%2"
   ]
  },
  {
   "cell_type": "code",
   "execution_count": 8,
   "id": "8b561e22-325b-4fd6-8e31-c77e7e0bde83",
   "metadata": {},
   "outputs": [
    {
     "data": {
      "text/plain": [
       "1024"
      ]
     },
     "execution_count": 8,
     "metadata": {},
     "output_type": "execute_result"
    }
   ],
   "source": [
    "2**10"
   ]
  },
  {
   "cell_type": "code",
   "execution_count": 9,
   "id": "03c3a634-6f13-4839-9efd-a124dedd711a",
   "metadata": {},
   "outputs": [
    {
     "data": {
      "text/plain": [
       "20"
      ]
     },
     "execution_count": 9,
     "metadata": {},
     "output_type": "execute_result"
    }
   ],
   "source": [
    "numero = 10\n",
    "numero + numero"
   ]
  },
  {
   "cell_type": "code",
   "execution_count": 10,
   "id": "5fadf0e7-4047-4b20-8f57-49d19bcac7a4",
   "metadata": {},
   "outputs": [
    {
     "name": "stdout",
     "output_type": "stream",
     "text": [
      "30\n"
     ]
    }
   ],
   "source": [
    "numero = 10\n",
    "numero + numero \n",
    "numero = 30\n",
    "print(numero)"
   ]
  },
  {
   "cell_type": "code",
   "execution_count": 14,
   "id": "57ceef32-e55b-4fc8-a199-ad95cdb4f140",
   "metadata": {},
   "outputs": [
    {
     "name": "stdout",
     "output_type": "stream",
     "text": [
      "25\n",
      "20\n",
      "A área do quadrado é igual a 25\n",
      "O perímetro do quadrado é igual a 20\n"
     ]
    }
   ],
   "source": [
    "#desafio 1 area quadrado\n",
    "A = 5\n",
    "QuaArea = A ** 2\n",
    "print(QuaArea)\n",
    "QuaPer = 4 * A\n",
    "print(QuaPer)\n",
    "print('A área do quadrado é igual a {}'.format(QuaArea))\n",
    "print('O perímetro do quadrado é igual a {}'.format(QuaPer))"
   ]
  },
  {
   "cell_type": "code",
   "execution_count": 18,
   "id": "5db13061-7650-45e2-9778-d49c819d9a7a",
   "metadata": {},
   "outputs": [
    {
     "name": "stdin",
     "output_type": "stream",
     "text": [
      " 25\n",
      " 100\n",
      " 5.50\n"
     ]
    },
    {
     "name": "stdout",
     "output_type": "stream",
     "text": [
      "NUMBER = 25\n",
      "SALARY = U$ 550.00\n"
     ]
    }
   ],
   "source": [
    "#desafio 3 \n",
    "NumFun = int(input())\n",
    "NumHora = int(input())\n",
    "ValHora = float(input())\n",
    "print('NUMBER = {}'.format(NumFun))\n",
    "Salario = NumHora * ValHora\n",
    "print('SALARY = U$ {:.2f}'.format(Salario))"
   ]
  }
 ],
 "metadata": {
  "kernelspec": {
   "display_name": "Python 3 (ipykernel)",
   "language": "python",
   "name": "python3"
  },
  "language_info": {
   "codemirror_mode": {
    "name": "ipython",
    "version": 3
   },
   "file_extension": ".py",
   "mimetype": "text/x-python",
   "name": "python",
   "nbconvert_exporter": "python",
   "pygments_lexer": "ipython3",
   "version": "3.12.4"
  }
 },
 "nbformat": 4,
 "nbformat_minor": 5
}
